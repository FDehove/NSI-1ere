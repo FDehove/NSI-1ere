{
 "cells": [
  {
   "cell_type": "markdown",
   "metadata": {},
   "source": [
    "<h1 class=\"alert alert-success\">Python – Dictionnaires"
   ]
  },
  {
   "cell_type": "markdown",
   "metadata": {},
   "source": [
    "<h2 class=\"alert alert-info\">Parcours de dictionnaires</h2>"
   ]
  },
  {
   "cell_type": "markdown",
   "metadata": {},
   "source": [
    "<p class=\"alert alert-warning\">Les dictionnaires se parcourent en Python comme les listes et les tuples.</p>"
   ]
  },
  {
   "cell_type": "code",
   "execution_count": 3,
   "metadata": {},
   "outputs": [],
   "source": [
    "def age_maximum(dico):\n",
    "    age_max = 0\n",
    "    plux_vieux = \"\"\n",
    "    for nom in dico:\n",
    "        if dico[nom] > age_max:\n",
    "            age_max = dico[nom]\n",
    "            plus_vieux = nom\n",
    "    print(f\"{plus_vieux} est le plus vieux avec {age_max} ans\")"
   ]
  },
  {
   "cell_type": "code",
   "execution_count": 30,
   "metadata": {},
   "outputs": [
    {
     "name": "stdout",
     "output_type": "stream",
     "text": [
      "Charlie est le plus vieux avec 56 ans\n"
     ]
    }
   ],
   "source": [
    ">>> age_maximum({'Alice':23,'Bob':32,'Charlie':56,'Daniel':10})"
   ]
  },
  {
   "cell_type": "markdown",
   "metadata": {},
   "source": [
    "Nous allons faire une fonction qui analyse un texte et compte les occurences des différents<br/>\n",
    "mots de ce texte. Pour cela nous allons utiliser les deux fonctions suivantes."
   ]
  },
  {
   "cell_type": "code",
   "execution_count": 82,
   "metadata": {},
   "outputs": [],
   "source": [
    "def occurences(texte):\n",
    "    dico_occur = dict()\n",
    "    for mot in texte.split():\n",
    "        mot = mot.lower()\n",
    "        # convertit le mot en minuscule\n",
    "        mot = mot.strip(\",.;!?-()«»_\") # enleve les ponctuations collees aux mots\n",
    "        if mot in dico_occur:\n",
    "            # on teste si on connaît deja le mot\n",
    "            dico_occur[mot] += 1\n",
    "            # on crée une entrée\n",
    "        else:\n",
    "            dico_occur[mot] = 1\n",
    "    return dico_occur\n",
    "\n",
    "def occurences_dans_fichier(fichier):\n",
    "    with open(fichier, 'r') as f:\n",
    "        dico = occurences(f.read())\n",
    "    return dico\n",
    "\n",
    "dico = occurences_dans_fichier(\"LesMiserables.txt\")"
   ]
  },
  {
   "cell_type": "code",
   "execution_count": 86,
   "metadata": {},
   "outputs": [],
   "source": [
    "#Ecrire le code ici\n"
   ]
  },
  {
   "cell_type": "markdown",
   "metadata": {},
   "source": [
    "Pour les exercices suivants, nous utiliserons le fichier LesMiserables.txt (obtenu grace au<br/>\n",
    "site http://www.gutenberg.org) téléchargeable sur le cours moodle."
   ]
  },
  {
   "cell_type": "markdown",
   "metadata": {},
   "source": [
    "<p class=\"alert-warning\"><u>Exercice 1</u> : Déterminer le nombre de mots différents dans Les Misérables.</p>"
   ]
  },
  {
   "cell_type": "markdown",
   "metadata": {},
   "source": [
    "<p class=\"alert-warning\"><u>Exercice 2</u> : Écrire une fonction mot_le_plus_frequent(dico) qui renvoie le mot le plus\n",
    "fréquent dans le dictionnaire dico associant des mots à leur nombre d’occurences.</p>"
   ]
  },
  {
   "cell_type": "markdown",
   "metadata": {},
   "source": [
    "<p class=\"alert-warning\"><u>Exercice 3</u> : Écrire une fonction <code>le_plus_frequent(dico, n)</code> qui renvoie le mot de n lettre\n",
    "le plus fréquent d’après le dictionnaire dico. S’il n’y a pas de mot de longueur n, renvoyez\n",
    "un texte vide.</p>"
   ]
  },
  {
   "cell_type": "markdown",
   "metadata": {},
   "source": [
    "<p class=\"alert-warning\"><u>Exercice 4</u> : Écrire une fonction <code>plus_frequents(dico)</code> qui affiche les messages suivants,\n",
    "où MOT et NB sont remplacés par les bonnes valeurs. Vous déterminerez le nombre de lettres\n",
    "maximum à traiter.</p>"
   ]
  },
  {
   "cell_type": "code",
   "execution_count": 25,
   "metadata": {},
   "outputs": [],
   "source": [
    "def plus_frequents(dico):\n",
    "    pass"
   ]
  },
  {
   "cell_type": "markdown",
   "metadata": {},
   "source": [
    ">>> plus_frequents(dico)\n",
    "1 lettre(s) : MOT avec NB occurences\n",
    "2 lettre(s) : MOT avec NB occurences\n",
    "3 lettre(s) : MOT avec NB occurences"
   ]
  },
  {
   "cell_type": "markdown",
   "metadata": {},
   "source": [
    "<h2 class=\"alert alert-info\">Les ensembles</h2>"
   ]
  },
  {
   "cell_type": "markdown",
   "metadata": {},
   "source": [
    "Si on a juste besoin de tester l’appartenance d’une valeur à un ensemble, sans avoir besoin de récupérer<br/>\n",
    "une valeur associée, on peut utiliser le type <code>set</code> (\"ensemble\"), qui est lui aussi mutable.<br/>\n",
    "Cela revient essenciellement à utiliser un dictionnaire dans lequel on n’associe aucune valeur aux clefs.<br/>\n",
    "Si on ajoute un élément qui est déjà dans l’ensemble, il n’y a pas de doublon."
   ]
  },
  {
   "cell_type": "code",
   "execution_count": 42,
   "metadata": {},
   "outputs": [],
   "source": [
    ">>> ensemble_vide = set()\n",
    "# Creation d’un ensemble vide"
   ]
  },
  {
   "cell_type": "code",
   "execution_count": 43,
   "metadata": {},
   "outputs": [],
   "source": [
    ">>> ensemble = {\"Alice\", \"Bob\", \"Charlie\"}\n",
    "# Creation directe"
   ]
  },
  {
   "cell_type": "code",
   "execution_count": 44,
   "metadata": {},
   "outputs": [],
   "source": [
    ">>> ensemble.add(\"Daniel\")\n",
    "# Ajout d’un element"
   ]
  },
  {
   "cell_type": "code",
   "execution_count": 45,
   "metadata": {},
   "outputs": [],
   "source": [
    ">>> ensemble.add(\"Daniel\")\n",
    "# Ne fait rien puisque Daniel y est deja"
   ]
  },
  {
   "cell_type": "code",
   "execution_count": 46,
   "metadata": {},
   "outputs": [
    {
     "data": {
      "text/plain": [
       "3"
      ]
     },
     "execution_count": 46,
     "metadata": {},
     "output_type": "execute_result"
    }
   ],
   "source": [
    ">>> ensemble.remove(\"Alice\") # On enleve Alice\n",
    ">>> len(ensemble)\n",
    "# Nombre d’elements dans l’ensemble"
   ]
  },
  {
   "cell_type": "code",
   "execution_count": 47,
   "metadata": {},
   "outputs": [],
   "source": [
    ">>> ensemble\n",
    "{'Bob', 'Daniel', 'Charlie'}"
   ]
  },
  {
   "cell_type": "code",
   "execution_count": 49,
   "metadata": {},
   "outputs": [
    {
     "data": {
      "text/plain": [
       "False"
      ]
     },
     "execution_count": 49,
     "metadata": {},
     "output_type": "execute_result"
    }
   ],
   "source": [
    ">>> \"Marcel\" in ensemble\n",
    "# Test d’appartenance"
   ]
  },
  {
   "cell_type": "markdown",
   "metadata": {},
   "source": [
    "Par contre l’<b>ordre d’ajout</b> n’est pas forcément conservé dans l’ensemble.<br/>\n",
    "C’est aussi le cas pour les dictionnaires, même si dans les dernières versions de Python, cet ordre est conservé."
   ]
  },
  {
   "cell_type": "markdown",
   "metadata": {},
   "source": [
    "<h2 class=\"alert alert-info\">Utilisation des ensembles</h2>"
   ]
  },
  {
   "cell_type": "markdown",
   "metadata": {},
   "source": [
    "<p class=\"alert alert-warning\"><u>Exercice 5</u>:\n",
    "    Écrire une fonction inclusion(ens1, ens2) qui renvoie True si et seulement\n",
    "si l’ensemble ens1 est inclus dans ens2.</p>"
   ]
  },
  {
   "cell_type": "code",
   "execution_count": 57,
   "metadata": {},
   "outputs": [],
   "source": [
    "def inclusion(ens1,ens2):\n",
    "    pass"
   ]
  },
  {
   "cell_type": "code",
   "execution_count": 52,
   "metadata": {},
   "outputs": [],
   "source": [
    ">>> inclusion(set(), {1, 2, 3})\n",
    "#True"
   ]
  },
  {
   "cell_type": "code",
   "execution_count": 54,
   "metadata": {},
   "outputs": [],
   "source": [
    ">>> inclusion({1, 3}, {1, 2, 3})\n",
    "#True"
   ]
  },
  {
   "cell_type": "code",
   "execution_count": 61,
   "metadata": {},
   "outputs": [],
   "source": [
    ">>> inclusion({1, 5}, {1, 2, 3})\n",
    "#False"
   ]
  },
  {
   "cell_type": "markdown",
   "metadata": {},
   "source": [
    "<p class=\"alert alert-warning\"><u>Exercice 6</u> : Écrire une fonction union(ens1, ens2) qui renvoie un nouvel ensemble égal à\n",
    "l’union des ensembles ens1 et ens2.</p>"
   ]
  },
  {
   "cell_type": "code",
   "execution_count": 58,
   "metadata": {},
   "outputs": [],
   "source": [
    "def union(ens1,ens2):\n",
    "    pass"
   ]
  },
  {
   "cell_type": "code",
   "execution_count": 59,
   "metadata": {},
   "outputs": [],
   "source": [
    ">>> union({1, 4}, {2, 4, 7})\n",
    "#{1, 2, 4, 7}"
   ]
  },
  {
   "cell_type": "markdown",
   "metadata": {},
   "source": [
    "<p class=\"alert alert-warning\"><u>Exercice 7</u> : Écrire une fonction intersection(ens1, ens2) qui renvoie un nouvel en-\n",
    "semble égal à l’intersection des ensembles ens1 et ens2.</p>"
   ]
  },
  {
   "cell_type": "code",
   "execution_count": 71,
   "metadata": {},
   "outputs": [],
   "source": [
    "def intersection(ens1,ens2):\n",
    "    pass"
   ]
  },
  {
   "cell_type": "code",
   "execution_count": 72,
   "metadata": {},
   "outputs": [],
   "source": [
    ">>> intersection({7, 1}, {2, 9})\n",
    "#set()"
   ]
  },
  {
   "cell_type": "code",
   "execution_count": 73,
   "metadata": {},
   "outputs": [],
   "source": [
    ">>> intersection({7, 1, 6}, {2, 6, 11})\n",
    "#{6}"
   ]
  },
  {
   "cell_type": "markdown",
   "metadata": {},
   "source": [
    "<p class=\"alert alert-warning\"><u>Exercice 8</u> : Écrire une fonction soustraction(ens1, ens2) qui renvoie un nouvel en-\n",
    "semble contenant les éléments de ens1 qui ne sont pas dans ens2.</p>"
   ]
  },
  {
   "cell_type": "code",
   "execution_count": 75,
   "metadata": {},
   "outputs": [],
   "source": [
    "def soustraction(ens1,ens2):\n",
    "    pass"
   ]
  },
  {
   "cell_type": "code",
   "execution_count": 76,
   "metadata": {},
   "outputs": [],
   "source": [
    ">>> soustraction({6, 7}, {1, 7, 6})\n",
    "#set()"
   ]
  },
  {
   "cell_type": "code",
   "execution_count": 77,
   "metadata": {},
   "outputs": [],
   "source": [
    ">>> soustraction({12, 6, 7, 1}, {1, 7, 9})\n",
    "#{12, 6}"
   ]
  },
  {
   "cell_type": "markdown",
   "metadata": {},
   "source": [
    "<p class=\"alert alert-warning\"><u>Exercice 9</u> : On prend un nombre n et on additionne le carré de ses chiffres.<br/>On recommence\n",
    "la même chose à partir du résultat obtenu.<br/>\n",
    "On répète le processus jusqu’à obtenir soit 1, soit un nombre déjà obtenu.<br/>\n",
    "Si on obtient 1, on dit que le nombre n est heureux.<br/>\n",
    "Par exemple, 23 est heureux : $\\small{ 23\\rightarrow 2^2+3^2=13\\rightarrow 1^2+3^2=10\\rightarrow 1^2+0^2=1}$ <br/>Écrire une fonction <cod>heureux(n)</code> qui prend un entier positif n et renvoie un booléen indiquant s’il est heureux ou pas.<br/> Afin de tester si le nombre a déjà été obtenu au cours du\n",
    "processus, vous pouvez utiliser un ensemble.</p>\n",
    "\n"
   ]
  },
  {
   "cell_type": "code",
   "execution_count": null,
   "metadata": {},
   "outputs": [],
   "source": [
    "def heureux(nb):\n",
    "    pass"
   ]
  }
 ],
 "metadata": {
  "kernelspec": {
   "display_name": "Python 3",
   "language": "python",
   "name": "python3"
  },
  "language_info": {
   "codemirror_mode": {
    "name": "ipython",
    "version": 3
   },
   "file_extension": ".py",
   "mimetype": "text/x-python",
   "name": "python",
   "nbconvert_exporter": "python",
   "pygments_lexer": "ipython3",
   "version": "3.7.6"
  }
 },
 "nbformat": 4,
 "nbformat_minor": 4
}
