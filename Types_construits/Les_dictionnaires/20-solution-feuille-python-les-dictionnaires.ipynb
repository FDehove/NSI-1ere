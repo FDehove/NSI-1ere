{
 "cells": [
  {
   "cell_type": "markdown",
   "metadata": {},
   "source": [
    "<h1 class=\"alert alert-success\">Python – Dictionnaires"
   ]
  },
  {
   "cell_type": "markdown",
   "metadata": {},
   "source": [
    "<h2 class=\"alert alert-info\">Parcours de dictionnaires</h2>"
   ]
  },
  {
   "cell_type": "markdown",
   "metadata": {},
   "source": [
    "<p class=\"alert alert-success\">Les dictionnaires se parcourent en Python comme les listes et les tuples.</p>"
   ]
  },
  {
   "cell_type": "code",
   "execution_count": 1,
   "metadata": {},
   "outputs": [],
   "source": [
    "def age_maximum(dico):\n",
    "    age_max = 0\n",
    "    plux_vieux = \"\"\n",
    "    for nom in dico:\n",
    "        if dico[nom] > age_max:\n",
    "            age_max = dico[nom]\n",
    "            plus_vieux = nom\n",
    "    print(f\"{plus_vieux} est le plus vieux avec {age_max} ans\")"
   ]
  },
  {
   "cell_type": "code",
   "execution_count": 2,
   "metadata": {},
   "outputs": [
    {
     "name": "stdout",
     "output_type": "stream",
     "text": [
      "Charlie est le plus vieux avec 56 ans\n"
     ]
    }
   ],
   "source": [
    ">>> age_maximum({'Alice':23,'Bob':32,'Charlie':56,'Daniel':10})"
   ]
  },
  {
   "cell_type": "markdown",
   "metadata": {},
   "source": [
    "Nous allons faire une fonction qui analyse un texte et compte les occurences des différents<br/>\n",
    "mots de ce texte. Pour cela nous allons utiliser les deux fonctions suivantes."
   ]
  },
  {
   "cell_type": "code",
   "execution_count": 49,
   "metadata": {},
   "outputs": [],
   "source": [
    "def occurences(texte):\n",
    "    dico_occur = dict()\n",
    "    for mot in texte.split():\n",
    "        mot = mot.lower()\n",
    "        # convertit le mot en minuscule\n",
    "        mot = mot.strip(\",.;!?-()«»_\") # enleve les ponctuations collees aux mots\n",
    "        if mot in dico_occur:\n",
    "            # on teste si on connaît deja le mot\n",
    "            dico_occur[mot] += 1\n",
    "            # on crée une entrée\n",
    "        else:\n",
    "            dico_occur[mot] = 1\n",
    "    return dico_occur\n",
    "\n",
    "def occurences_dans_fichier(fichier):\n",
    "    with open(fichier, 'r') as f:\n",
    "        dico = occurences(f.read())\n",
    "    return dico\n",
    "\n",
    "dico = occurences_dans_fichier(\"LesMiserables.txt\")"
   ]
  },
  {
   "cell_type": "code",
   "execution_count": 50,
   "metadata": {},
   "outputs": [
    {
     "data": {
      "text/plain": [
       "34305"
      ]
     },
     "execution_count": 50,
     "metadata": {},
     "output_type": "execute_result"
    }
   ],
   "source": [
    "#Ecrire le code ici\n",
    "len(dico)"
   ]
  },
  {
   "cell_type": "markdown",
   "metadata": {},
   "source": [
    "Pour les exercices suivants, nous utiliserons le fichier LesMiserables.txt (obtenu grace au<br/>\n",
    "site http://www.gutenberg.org) téléchargeable sur le cours moodle."
   ]
  },
  {
   "cell_type": "markdown",
   "metadata": {},
   "source": [
    "<p class=\"alert-warning\"><u>Exercice 1</u> : Déterminer le nombre de mots différents dans Les Misérables.</p>"
   ]
  },
  {
   "cell_type": "code",
   "execution_count": 51,
   "metadata": {},
   "outputs": [
    {
     "data": {
      "text/plain": [
       "34305"
      ]
     },
     "execution_count": 51,
     "metadata": {},
     "output_type": "execute_result"
    }
   ],
   "source": [
    "len(dico)"
   ]
  },
  {
   "cell_type": "markdown",
   "metadata": {},
   "source": [
    "<p class=\"alert-warning\"><u>Exercice 2</u> : Écrire une fonction mot_le_plus_frequent(dico) qui renvoie le mot le plus\n",
    "fréquent dans le dictionnaire dico associant des mots à leur nombre d’occurences.</p>"
   ]
  },
  {
   "cell_type": "code",
   "execution_count": 52,
   "metadata": {},
   "outputs": [
    {
     "data": {
      "text/plain": [
       "('de', 21829)"
      ]
     },
     "execution_count": 52,
     "metadata": {},
     "output_type": "execute_result"
    }
   ],
   "source": [
    "def mot_le_plus_frequent(dico):\n",
    "    max=0\n",
    "    plus_freq=\"\"\n",
    "    for mot,occur in dico.items():\n",
    "        if occur>max:\n",
    "            plus_freq=mot\n",
    "            max=occur\n",
    "    return plus_freq,max\n",
    "mot_le_plus_frequent(dico)"
   ]
  },
  {
   "cell_type": "markdown",
   "metadata": {},
   "source": [
    "<p class=\"alert-warning\"><u>Exercice 3</u> : Écrire une fonction <code>le_plus_frequent(dico, n)</code> qui renvoie le mot de n lettre\n",
    "le plus fréquent d’après le dictionnaire dico. S’il n’y a pas de mot de longueur n, renvoyez\n",
    "un texte vide.</p>"
   ]
  },
  {
   "cell_type": "code",
   "execution_count": 53,
   "metadata": {},
   "outputs": [],
   "source": [
    "def le_plus_frequent(dico, n):\n",
    "    max=0\n",
    "    plus_freq=\"\"\n",
    "    for mot,occur in dico.items():\n",
    "        if len(mot)!=n:\n",
    "            pass\n",
    "        elif occur>max:\n",
    "            plus_freq=mot\n",
    "            max=occur\n",
    "    return plus_freq,max"
   ]
  },
  {
   "cell_type": "code",
   "execution_count": 54,
   "metadata": {},
   "outputs": [
    {
     "data": {
      "text/plain": [
       "('à', 10009)"
      ]
     },
     "execution_count": 54,
     "metadata": {},
     "output_type": "execute_result"
    }
   ],
   "source": [
    "le_plus_frequent(dico, 1)"
   ]
  },
  {
   "cell_type": "code",
   "execution_count": 55,
   "metadata": {},
   "outputs": [
    {
     "data": {
      "text/plain": [
       "('de', 21829)"
      ]
     },
     "execution_count": 55,
     "metadata": {},
     "output_type": "execute_result"
    }
   ],
   "source": [
    "le_plus_frequent(dico, 2) "
   ]
  },
  {
   "cell_type": "code",
   "execution_count": 56,
   "metadata": {},
   "outputs": [
    {
     "data": {
      "text/plain": [
       "('les', 8091)"
      ]
     },
     "execution_count": 56,
     "metadata": {},
     "output_type": "execute_result"
    }
   ],
   "source": [
    "le_plus_frequent(dico, 3) "
   ]
  },
  {
   "cell_type": "markdown",
   "metadata": {},
   "source": [
    "<p class=\"alert-warning\"><u>Exercice 4</u> : Écrire une fonction <code>plus_frequents(dico)</code> qui affiche les messages suivants,\n",
    "où MOT et NB sont remplacés par les bonnes valeurs. Vous déterminerez le nombre de lettres\n",
    "maximum à traiter.</p>"
   ]
  },
  {
   "cell_type": "code",
   "execution_count": 57,
   "metadata": {},
   "outputs": [],
   "source": [
    "def max_longueur(dico):\n",
    "    max=0\n",
    "    for mot in dico:\n",
    "        if len(mot)>max:\n",
    "            max=len(mot)\n",
    "    return max\n",
    "\n",
    "def plus_frequents(dico):\n",
    "    intervalle=max_longueur(dico)\n",
    "    for longueur in range(1,intervalle+1):\n",
    "        MOT,NB=le_plus_frequent(dico, longueur)\n",
    "        if MOT!='':\n",
    "            print(f\"{longueur} lettre(s) : {MOT} avec {NB} occurences\")\n",
    "    \n",
    "    return    "
   ]
  },
  {
   "cell_type": "code",
   "execution_count": 58,
   "metadata": {},
   "outputs": [
    {
     "name": "stdout",
     "output_type": "stream",
     "text": [
      "1 lettre(s) : à avec 10009 occurences\n",
      "2 lettre(s) : de avec 21829 occurences\n",
      "3 lettre(s) : les avec 8091 occurences\n",
      "4 lettre(s) : dans avec 5544 occurences\n",
      "5 lettre(s) : avait avec 3468 occurences\n",
      "6 lettre(s) : marius avec 1360 occurences\n",
      "7 lettre(s) : valjean avec 1106 occurences\n",
      "8 lettre(s) : monsieur avec 746 occurences\n",
      "9 lettre(s) : madeleine avec 283 occurences\n",
      "10 lettre(s) : thénardier avec 588 occurences\n",
      "11 lettre(s) : quelquefois avec 166 occurences\n",
      "12 lettre(s) : fauchelevent avec 296 occurences\n",
      "13 lettre(s) : saint-antoine avec 34 occurences\n",
      "14 lettre(s) : l'insurrection avec 47 occurences\n",
      "15 lettre(s) : mont-saint-jean avec 32 occurences\n",
      "16 lettre(s) : particulièrement avec 22 occurences\n",
      "17 lettre(s) : montreuil-sur-mer avec 71 occurences\n",
      "18 lettre(s) : filles-du-calvaire avec 27 occurences\n",
      "19 lettre(s) : quatre-vingt-quatre avec 7 occurences\n",
      "20 lettre(s) : vieilles-haudriettes avec 3 occurences\n",
      "21 lettre(s) : jean-jacques-rousseau avec 2 occurences\n",
      "22 lettre(s) : neuve-sainte-geneviève avec 5 occurences\n",
      "23 lettre(s) : adjudant-garde-chiourme avec 1 occurences\n",
      "24 lettre(s) : bernardines-bénédictines avec 8 occurences\n",
      "25 lettre(s) : saint-jacques-du-haut-pas avec 7 occurences\n",
      "26 lettre(s) : petit-picpus-saint-antoine avec 1 occurences\n",
      "30 lettre(s) : sainte-croix-de-la-bretonnerie avec 2 occurences\n",
      "32 lettre(s) : guimard-guimardini-guimardinette avec 1 occurences\n",
      "35 lettre(s) : monsieur-dont-je-ne-sais-pas-le-nom avec 1 occurences\n",
      "38 lettre(s) : jésus-mon-dieu-bancroche-à-bas-la-lune avec 1 occurences\n",
      "45 lettre(s) : portière-principale-locataire-femme-de-ménage avec 1 occurences\n",
      "70 lettre(s) : paroisse-meurs-de-faim-si-tu-as-du-feu-meurs-de-froid-si-tu-as-du-pain avec 1 occurences\n",
      "76 lettre(s) : l'agent-de-police-ja-vert-a-été-trouvé-noyé-sous-un-bateau-du-pont-au-change avec 1 occurences\n"
     ]
    }
   ],
   "source": [
    "plus_frequents(dico)"
   ]
  },
  {
   "cell_type": "markdown",
   "metadata": {},
   "source": [
    "<h2 class=\"alert alert-info\">Les ensembles</h2>"
   ]
  },
  {
   "cell_type": "markdown",
   "metadata": {},
   "source": [
    "Si on a juste besoin de tester l’appartenance d’une valeur à un ensemble, sans avoir besoin de récupérer<br/>\n",
    "une valeur associée, on peut utiliser le type <code>set</code> (\"ensemble\"), qui est lui aussi mutable.<br/>\n",
    "Cela revient essenciellement à utiliser un dictionnaire dans lequel on n’associe aucune valeur aux clefs.<br/>\n",
    "Si on ajoute un élément qui est déjà dans l’ensemble, il n’y a pas de doublon."
   ]
  },
  {
   "cell_type": "code",
   "execution_count": 42,
   "metadata": {},
   "outputs": [],
   "source": [
    ">>> ensemble_vide = set()\n",
    "# Creation d’un ensemble vide"
   ]
  },
  {
   "cell_type": "code",
   "execution_count": 43,
   "metadata": {},
   "outputs": [],
   "source": [
    ">>> ensemble = {\"Alice\", \"Bob\", \"Charlie\"}\n",
    "# Creation directe"
   ]
  },
  {
   "cell_type": "code",
   "execution_count": 44,
   "metadata": {},
   "outputs": [],
   "source": [
    ">>> ensemble.add(\"Daniel\")\n",
    "# Ajout d’un element"
   ]
  },
  {
   "cell_type": "code",
   "execution_count": 45,
   "metadata": {},
   "outputs": [],
   "source": [
    ">>> ensemble.add(\"Daniel\")\n",
    "# Ne fait rien puisque Daniel y est deja"
   ]
  },
  {
   "cell_type": "code",
   "execution_count": 46,
   "metadata": {},
   "outputs": [
    {
     "data": {
      "text/plain": [
       "3"
      ]
     },
     "execution_count": 46,
     "metadata": {},
     "output_type": "execute_result"
    }
   ],
   "source": [
    ">>> ensemble.remove(\"Alice\") # On enleve Alice\n",
    ">>> len(ensemble)\n",
    "# Nombre d’elements dans l’ensemble"
   ]
  },
  {
   "cell_type": "code",
   "execution_count": 47,
   "metadata": {},
   "outputs": [],
   "source": [
    ">>> ensemble\n",
    "{'Bob', 'Daniel', 'Charlie'}"
   ]
  },
  {
   "cell_type": "code",
   "execution_count": 49,
   "metadata": {},
   "outputs": [
    {
     "data": {
      "text/plain": [
       "False"
      ]
     },
     "execution_count": 49,
     "metadata": {},
     "output_type": "execute_result"
    }
   ],
   "source": [
    ">>> \"Marcel\" in ensemble\n",
    "# Test d’appartenance"
   ]
  },
  {
   "cell_type": "markdown",
   "metadata": {},
   "source": [
    "Par contre l’<b>ordre d’ajout</b> n’est pas forcément conservé dans l’ensemble.<br/>\n",
    "C’est aussi le cas pour les dictionnaires, même si dans les dernières versions de Python, cet ordre est conservé."
   ]
  },
  {
   "cell_type": "markdown",
   "metadata": {},
   "source": [
    "<h2 class=\"alert alert-info\">Utilisation des ensembles</h2>"
   ]
  },
  {
   "cell_type": "markdown",
   "metadata": {},
   "source": [
    "<p class=\"alert alert-warning\"><u>Exercice 5</u>:\n",
    "    Écrire une fonction inclusion(ens1, ens2) qui renvoie True si et seulement\n",
    "si l’ensemble ens1 est inclus dans ens2.</p>"
   ]
  },
  {
   "cell_type": "code",
   "execution_count": 59,
   "metadata": {},
   "outputs": [],
   "source": [
    "def inclusion(ens1,ens2):\n",
    "    for elt in ens1:\n",
    "        if elt not in ens2:\n",
    "            return False\n",
    "    return True"
   ]
  },
  {
   "cell_type": "code",
   "execution_count": 60,
   "metadata": {},
   "outputs": [
    {
     "data": {
      "text/plain": [
       "True"
      ]
     },
     "execution_count": 60,
     "metadata": {},
     "output_type": "execute_result"
    }
   ],
   "source": [
    ">>> inclusion(set(), {1, 2, 3})\n",
    "#True"
   ]
  },
  {
   "cell_type": "code",
   "execution_count": 63,
   "metadata": {},
   "outputs": [
    {
     "data": {
      "text/plain": [
       "False"
      ]
     },
     "execution_count": 63,
     "metadata": {},
     "output_type": "execute_result"
    }
   ],
   "source": [
    ">>> inclusion({1, 3}, {1, 2, 3})\n",
    "#True"
   ]
  },
  {
   "cell_type": "code",
   "execution_count": 62,
   "metadata": {},
   "outputs": [
    {
     "data": {
      "text/plain": [
       "False"
      ]
     },
     "execution_count": 62,
     "metadata": {},
     "output_type": "execute_result"
    }
   ],
   "source": [
    ">>> inclusion({1, 5}, {1, 2, 3})\n",
    "#False"
   ]
  },
  {
   "cell_type": "markdown",
   "metadata": {},
   "source": [
    "<p class=\"alert alert-warning\"><u>Exercice 6</u> : Écrire une fonction union(ens1, ens2) qui renvoie un nouvel ensemble égal à\n",
    "l’union des ensembles ens1 et ens2.</p>"
   ]
  },
  {
   "cell_type": "code",
   "execution_count": 71,
   "metadata": {},
   "outputs": [],
   "source": [
    "def union(ens1,ens2):\n",
    "    ens3=set()\n",
    "    for i in ens1:\n",
    "        ens3.add(i)\n",
    "    for i in ens2:\n",
    "        ens3.add(i)\n",
    "    return ens3"
   ]
  },
  {
   "cell_type": "code",
   "execution_count": 72,
   "metadata": {},
   "outputs": [
    {
     "data": {
      "text/plain": [
       "{1, 2, 4, 7}"
      ]
     },
     "execution_count": 72,
     "metadata": {},
     "output_type": "execute_result"
    }
   ],
   "source": [
    "ens1={1, 4}\n",
    "ens2={2, 4, 7}\n",
    "union({1, 4}, {2, 4, 7})\n",
    "#{1, 2, 4, 7}"
   ]
  },
  {
   "cell_type": "markdown",
   "metadata": {},
   "source": [
    "<p class=\"alert alert-warning\"><u>Exercice 7</u> : Écrire une fonction intersection(ens1, ens2) qui renvoie un nouvel en-\n",
    "semble égal à l’intersection des ensembles ens1 et ens2.</p>"
   ]
  },
  {
   "cell_type": "code",
   "execution_count": 73,
   "metadata": {},
   "outputs": [],
   "source": [
    "def intersection(ens1,ens2):\n",
    "    ens3 = set()\n",
    "    for i in ens1:\n",
    "        if i in ens2:\n",
    "            ens3.add(i)\n",
    "    return ens3"
   ]
  },
  {
   "cell_type": "code",
   "execution_count": 75,
   "metadata": {},
   "outputs": [
    {
     "data": {
      "text/plain": [
       "set()"
      ]
     },
     "execution_count": 75,
     "metadata": {},
     "output_type": "execute_result"
    }
   ],
   "source": [
    "intersection({7, 1}, {2, 9})\n",
    "#set()"
   ]
  },
  {
   "cell_type": "code",
   "execution_count": 83,
   "metadata": {},
   "outputs": [
    {
     "data": {
      "text/plain": [
       "{6}"
      ]
     },
     "execution_count": 83,
     "metadata": {},
     "output_type": "execute_result"
    }
   ],
   "source": [
    "intersection({7, 1, 6}, {2, 6, 11})\n",
    "#{6}"
   ]
  },
  {
   "cell_type": "markdown",
   "metadata": {},
   "source": [
    "<p class=\"alert alert-warning\"><u>Exercice 8</u> : Écrire une fonction soustraction(ens1, ens2) qui renvoie un nouvel en-\n",
    "semble contenant les éléments de ens1 qui ne sont pas dans ens2.</p>"
   ]
  },
  {
   "cell_type": "code",
   "execution_count": 84,
   "metadata": {},
   "outputs": [],
   "source": [
    "def soustraction(ens1,ens2):\n",
    "    ens3=set()\n",
    "    for i in ens1:\n",
    "        if i not in ens2:\n",
    "            ens3.add(i)\n",
    "    return ens3"
   ]
  },
  {
   "cell_type": "code",
   "execution_count": 85,
   "metadata": {},
   "outputs": [
    {
     "data": {
      "text/plain": [
       "set()"
      ]
     },
     "execution_count": 85,
     "metadata": {},
     "output_type": "execute_result"
    }
   ],
   "source": [
    ">>> soustraction({6, 7}, {1, 7, 6})\n",
    "#set()"
   ]
  },
  {
   "cell_type": "code",
   "execution_count": 86,
   "metadata": {},
   "outputs": [
    {
     "data": {
      "text/plain": [
       "{6, 12}"
      ]
     },
     "execution_count": 86,
     "metadata": {},
     "output_type": "execute_result"
    }
   ],
   "source": [
    ">>> soustraction({12, 6, 7, 1}, {1, 7, 9})\n",
    "#{12, 6}"
   ]
  },
  {
   "cell_type": "markdown",
   "metadata": {},
   "source": [
    "<p class=\"alert alert-warning\"><u>Exercice 9</u> : On prend un nombre n et on additionne le carré de ses chiffres.<br/>On recommence\n",
    "la même chose à partir du résultat obtenu.<br/>\n",
    "On répète le processus jusqu’à obtenir soit 1, soit un nombre déjà obtenu.<br/>\n",
    "Si on obtient 1, on dit que le nombre n est heureux.<br/>\n",
    "Par exemple, 23 est heureux : $\\small{ 23\\rightarrow 2^2+3^2=13\\rightarrow 1^2+3^2=10\\rightarrow 1^2+0^2=1}$ <br/>Écrire une fonction <cod>heureux(n)</code> qui prend un entier positif n et renvoie un booléen indiquant s’il est heureux ou pas.<br/> Afin de tester si le nombre a déjà été obtenu au cours du\n",
    "processus, vous pouvez utiliser un ensemble.</p>\n",
    "\n"
   ]
  },
  {
   "cell_type": "code",
   "execution_count": 90,
   "metadata": {},
   "outputs": [
    {
     "data": {
      "text/plain": [
       "True"
      ]
     },
     "execution_count": 90,
     "metadata": {},
     "output_type": "execute_result"
    }
   ],
   "source": [
    "def heureux(nb):\n",
    "    deja=set()\n",
    "    while not (nb in deja):\n",
    "        deja.add(nb)\n",
    "        str_nb=str(nb)\n",
    "        somme=0\n",
    "        for chiffre in str_nb:\n",
    "            somme+=int(chiffre)**2\n",
    "        nb=somme\n",
    "        #print( deja, \"<--\",nb)\n",
    "    if 1 in deja:\n",
    "        return True\n",
    "    else:\n",
    "        return False\n",
    "heureux(23)"
   ]
  },
  {
   "cell_type": "code",
   "execution_count": 91,
   "metadata": {},
   "outputs": [],
   "source": [
    "#Les heureux plus petits que 100\n",
    "def liste_heureux(n):\n",
    "    liste=[]\n",
    "    for i in range(n+1):\n",
    "        if heureux(i):\n",
    "            liste.append(i)\n",
    "    return liste"
   ]
  },
  {
   "cell_type": "code",
   "execution_count": 94,
   "metadata": {},
   "outputs": [
    {
     "data": {
      "text/plain": [
       "[1, 7, 10, 13, 19, 23, 28, 31, 32, 44, 49, 68, 70, 79, 82, 86, 91, 94, 97, 100]"
      ]
     },
     "execution_count": 94,
     "metadata": {},
     "output_type": "execute_result"
    }
   ],
   "source": [
    "liste_heureux(100)"
   ]
  },
  {
   "cell_type": "code",
   "execution_count": null,
   "metadata": {},
   "outputs": [],
   "source": []
  }
 ],
 "metadata": {
  "kernelspec": {
   "display_name": "Python 3",
   "language": "python",
   "name": "python3"
  },
  "language_info": {
   "codemirror_mode": {
    "name": "ipython",
    "version": 3
   },
   "file_extension": ".py",
   "mimetype": "text/x-python",
   "name": "python",
   "nbconvert_exporter": "python",
   "pygments_lexer": "ipython3",
   "version": "3.7.6"
  }
 },
 "nbformat": 4,
 "nbformat_minor": 4
}
