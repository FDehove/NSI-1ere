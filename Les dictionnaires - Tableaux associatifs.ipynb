{
 "cells": [
  {
   "cell_type": "markdown",
   "metadata": {
    "hideCode": true,
    "hidePrompt": true
   },
   "source": [
    "<h4>Le but de ce document est de présenter les <span class=\"inline_code\">dictionnaires</span> python.</h4>"
   ]
  },
  {
   "cell_type": "markdown",
   "metadata": {},
   "source": [
    "<h1 class=\"alert alert-success\">Les dictionnaires</h1>"
   ]
  },
  {
   "cell_type": "markdown",
   "metadata": {
    "hideCode": true,
    "hidePrompt": true,
    "slideshow": {
     "slide_type": "slide"
    }
   },
   "source": [
    "<h2 class=\"alert alert-info\">\n",
    "Définition : Les dictionnaires</h2>"
   ]
  },
  {
   "cell_type": "markdown",
   "metadata": {
    "hideCode": true,
    "hidePrompt": true,
    "slideshow": {
     "slide_type": "slide"
    }
   },
   "source": [
    "<p class=\"alert-warning\">Un <span class=\"inline_code\">dictionnaire</span> est une collection non-ordonnée (non indicée) d’objets (simples ou évolués) qui utilise le mécanisme associatif  <span class=\"inline_code\">clef-valeur</span>.</p>"
   ]
  },
  {
   "cell_type": "markdown",
   "metadata": {
    "hideCode": true,
    "hidePrompt": true,
    "slideshow": {
     "slide_type": "notes"
    }
   },
   "source": [
    "Une collection, c'est donc comme une liste mais là, elle n'est pas ordonnée : ça n'a pas de sens de dire qu'un élément est avant un autre puiqu'on va les appeler par leur nom (enfin leur clef !). En pratique :"
   ]
  },
  {
   "cell_type": "markdown",
   "metadata": {
    "hideCode": true,
    "hidePrompt": true,
    "slideshow": {
     "slide_type": "slide"
    }
   },
   "source": [
    "<h2 class=\"alert alert-info\">Utilisation des dictionnaires</h2>"
   ]
  },
  {
   "cell_type": "code",
   "execution_count": null,
   "metadata": {
    "hideCode": false,
    "hideOutput": false,
    "hidePrompt": true,
    "slideshow": {
     "slide_type": "slide"
    }
   },
   "outputs": [],
   "source": [
    "#définition d'un dictionnaire\n",
    "age_eleve = {'Pierre':17, 'Paul':15,'Jacques':16}\n",
    "print(age_eleve)"
   ]
  },
  {
   "cell_type": "markdown",
   "metadata": {
    "hideCode": true,
    "hidePrompt": true,
    "slideshow": {
     "slide_type": "slide"
    }
   },
   "source": [
    "<p><span class=inline_code>age_eleve</span> est un dictionnaire, il est délimité par des {}.</p>\n",
    "\n",
    "<span class=inline_code>Pierre</span> est une <span class=inline_code>clef</span> : <code>key</code> et 17 est la <span class=inline_code>valeur</span> : <code>value</code> associée à cette <span class=inline_code>clef</span>.</p>"
   ]
  },
  {
   "cell_type": "markdown",
   "metadata": {
    "hideCode": true,
    "hidePrompt": true
   },
   "source": [
    "<h2 class=\"alert alert-info\">\n",
    " Accès à une valeur du dictionnaire à partir d'une clef</h2>"
   ]
  },
  {
   "cell_type": "markdown",
   "metadata": {
    "hideCode": true,
    "hidePrompt": true
   },
   "source": [
    "#Pour connaître l'âge de Pierre on écrit :\n",
    "age_eleve[\"Pierre\"]"
   ]
  },
  {
   "cell_type": "code",
   "execution_count": null,
   "metadata": {},
   "outputs": [],
   "source": [
    "age_eleve[\"Pierre\"]"
   ]
  },
  {
   "cell_type": "markdown",
   "metadata": {
    "hideCode": true,
    "hidePrompt": true
   },
   "source": [
    "<p class=\"alert alert-danger\"><u>Remarque</u> : si on oublie les guillemets à \"Pierre\", l'interpréteur en déduit que l'on fait référence à une variable nommée Pierre, et il ne la connaît pas. Normal puisqu'ici, elle n'existe pas.</p>"
   ]
  },
  {
   "cell_type": "code",
   "execution_count": null,
   "metadata": {
    "hideCode": true,
    "hidePrompt": true
   },
   "outputs": [],
   "source": [
    "age_eleve[Pierre]"
   ]
  },
  {
   "cell_type": "code",
   "execution_count": null,
   "metadata": {
    "hideCode": true,
    "hidePrompt": true
   },
   "outputs": [],
   "source": [
    "#Alors que l'on peut utiliser une variable ainsi :\n",
    "nom=\"Pierre\"\n",
    "age_eleve[nom]"
   ]
  },
  {
   "cell_type": "markdown",
   "metadata": {
    "hideCode": true,
    "hidePrompt": true
   },
   "source": [
    "Pour savoir si une clef est présente dans un dictionnaire on utilise <code>in</code> :"
   ]
  },
  {
   "cell_type": "code",
   "execution_count": null,
   "metadata": {
    "hideCode": true,
    "hidePrompt": true
   },
   "outputs": [],
   "source": [
    "print(\"Pierre\" in age_eleve)\n",
    "print(\"Steven\" in age_eleve)"
   ]
  },
  {
   "cell_type": "markdown",
   "metadata": {
    "hideCode": true,
    "hidePrompt": true
   },
   "source": [
    "<h2 class=\"alert alert-info\">\n",
    "Parcours des valeurs d'un dictionnaire</h2>"
   ]
  },
  {
   "cell_type": "markdown",
   "metadata": {
    "hideCode": true,
    "hidePrompt": true
   },
   "source": [
    "Pour énumérer toutes les valeurs d'un dictionnaire, on utilise une boucle après avoir créer un itérateur :  <code>items()</code> de ses éléments :"
   ]
  },
  {
   "cell_type": "code",
   "execution_count": null,
   "metadata": {
    "hideCode": true,
    "hidePrompt": true
   },
   "outputs": [],
   "source": [
    "# age_eleve.item() est de type dict_item c'est une sorte de liste de tuples (clef,valeur)\n",
    "age_eleve.items()"
   ]
  },
  {
   "cell_type": "code",
   "execution_count": null,
   "metadata": {
    "hideCode": true,
    "hidePrompt": true
   },
   "outputs": [],
   "source": [
    "#Ce qui donne, avec une boucle for à deux variables clef,valeur :\n",
    "for clef,valeur in age_eleve.items():\n",
    "    print(clef+\"\\t\", valeur) #\\t est une tabulation, pour que les valeurs soient alignées.\n",
    "    "
   ]
  },
  {
   "cell_type": "markdown",
   "metadata": {
    "hideCode": true,
    "hidePrompt": true
   },
   "source": [
    "On aurait pu ne lister que les clefs : "
   ]
  },
  {
   "cell_type": "code",
   "execution_count": null,
   "metadata": {
    "hideCode": true,
    "hidePrompt": true
   },
   "outputs": [],
   "source": [
    "#liste des clés\n",
    "for key in age_eleve.keys():\n",
    "    print(key)"
   ]
  },
  {
   "cell_type": "markdown",
   "metadata": {
    "hideCode": true,
    "hidePrompt": true
   },
   "source": [
    "Ou ne lister que les valeurs : "
   ]
  },
  {
   "cell_type": "code",
   "execution_count": null,
   "metadata": {
    "hideCode": true,
    "hidePrompt": true
   },
   "outputs": [],
   "source": [
    "#liste des valeurs :\n",
    "for value in age_eleve.values():\n",
    "    print(value)"
   ]
  },
  {
   "cell_type": "markdown",
   "metadata": {},
   "source": [
    "<p class=\"alert alert-danger\"><u>Remarque</u> :</br>\n",
    "Si on ne précise pas keys() ou values(), on itère par défaut sur les clefs :</p>"
   ]
  },
  {
   "cell_type": "code",
   "execution_count": null,
   "metadata": {},
   "outputs": [],
   "source": [
    "for element in age_eleve: #on itère sans préciser, sur les éléments du dictionnaire\n",
    "    print(element)\n",
    "print(\"--> On a obtenu une énumération des clefs.\")"
   ]
  },
  {
   "cell_type": "markdown",
   "metadata": {
    "hideCode": true,
    "hidePrompt": true
   },
   "source": [
    "<h2 class=\"alert alert-info\">Application aux données exif d'une image :</h2>\n",
    "\n",
    "Pour consulter les données exif d'une photo on peut utiliser le module <code>exifread</code> qui s'installe en ligne de commande par : <br/>\n",
    "<code>$pip3 install exifread.</code><br/>\n",
    "Les données exif peuvent alors être récupérées sous forme de dictionnaire. Comme dans le code suivant :"
   ]
  },
  {
   "cell_type": "code",
   "execution_count": 15,
   "metadata": {
    "hideCode": true,
    "hidePrompt": true,
    "scrolled": true
   },
   "outputs": [
    {
     "name": "stderr",
     "output_type": "stream",
     "text": [
      "Possibly corrupted field Tag 0x1490 in MakerNote IFD\n"
     ]
    },
    {
     "name": "stdout",
     "output_type": "stream",
     "text": [
      "Le repertoire courant est :  /mnt/Datas/00-MATHS/1-LYCEE/01-NSI/01-Cours/00-MonCours/00-Dictionnaires \n",
      "\n",
      "                                 RUBRIQUE  |  VALEUR\n",
      "----------------------------------------------------------------------\n",
      "                   Image ImageDescription  :                                      \n",
      "                               Image Make  :  NIKON CORPORATION\n",
      "                              Image Model  :  NIKON D600\n",
      "                        Image Orientation  :  Horizontal (normal)\n",
      "                        Image XResolution  :  300\n",
      "                        Image YResolution  :  300\n",
      "                     Image ResolutionUnit  :  Pixels/Inch\n",
      "                           Image Software  :  GIMP 2.10.18\n",
      "                           Image DateTime  :  2020:05:04 13:24:17\n",
      "                             Image Artist  :                                      \n",
      "                   Image YCbCrPositioning  :  Co-sited\n",
      "                          Image Copyright  :                     , ... ]\n",
      "                         Image ExifOffset  :  394\n",
      "                         GPS GPSVersionID  :  [2, 3, 0, 0]\n",
      "                            Image GPSInfo  :  15010\n",
      "                     Thumbnail ImageWidth  :  256\n",
      "                    Thumbnail ImageLength  :  170\n",
      "                  Thumbnail BitsPerSample  :  [8, 8, 8]\n",
      "                    Thumbnail Compression  :  JPEG (old-style)\n",
      "      Thumbnail PhotometricInterpretation  :  6\n",
      "                Thumbnail SamplesPerPixel  :  3\n",
      "          Thumbnail JPEGInterchangeFormat  :  15136\n",
      "    Thumbnail JPEGInterchangeFormatLength  :  9341\n",
      "                        EXIF ExposureTime  :  1/400\n",
      "                             EXIF FNumber  :  63/10\n",
      "                     EXIF ExposureProgram  :  Aperture Priority\n",
      "                     EXIF ISOSpeedRatings  :  200\n",
      "                     EXIF SensitivityType  :  Recommended Exposure Index\n",
      "                         EXIF ExifVersion  :  0230\n",
      "                    EXIF DateTimeOriginal  :  2020:02:18 11:17:13\n",
      "                   EXIF DateTimeDigitized  :  2020:02:18 11:17:13\n",
      "             EXIF ComponentsConfiguration  :  YCbCr\n",
      "              EXIF CompressedBitsPerPixel  :  4\n",
      "                   EXIF ExposureBiasValue  :  0\n",
      "                    EXIF MaxApertureValue  :  1\n",
      "                        EXIF MeteringMode  :  Pattern\n",
      "                         EXIF LightSource  :  Unknown\n",
      "                               EXIF Flash  :  Flash did not fire, compulsory flash mode\n",
      "                         EXIF FocalLength  :  24\n",
      "                           EXIF MakerNote  :  [78, 105, 107, 111, 110, 0, 2, 16, 0, 0, 77, 77, 0, 42, 0, 0, 0, 8, 0, 56, ... ]\n",
      "                         EXIF UserComment  :                                      \n",
      "                          EXIF SubSecTime  :  10\n",
      "                  EXIF SubSecTimeOriginal  :  10\n",
      "                 EXIF SubSecTimeDigitized  :  10\n",
      "                     EXIF FlashPixVersion  :  0100\n",
      "                          EXIF ColorSpace  :  sRGB\n",
      "                      EXIF ExifImageWidth  :  4512\n",
      "                     EXIF ExifImageLength  :  3008\n",
      "                       EXIF SensingMethod  :  One-chip color area\n",
      "                          EXIF FileSource  :  Digital Camera\n",
      "                           EXIF SceneType  :  Directly Photographed\n",
      "                          EXIF CVAPattern  :  [0, 2, 0, 2, 0, 1, 1, 2]\n",
      "                      EXIF CustomRendered  :  Normal\n",
      "                        EXIF ExposureMode  :  Auto Exposure\n",
      "                        EXIF WhiteBalance  :  Auto\n",
      "                    EXIF DigitalZoomRatio  :  1\n",
      "               EXIF FocalLengthIn35mmFilm  :  24\n",
      "                    EXIF SceneCaptureType  :  Standard\n",
      "                         EXIF GainControl  :  None\n",
      "                            EXIF Contrast  :  Normal\n",
      "                          EXIF Saturation  :  Normal\n",
      "                           EXIF Sharpness  :  Normal\n",
      "                EXIF SubjectDistanceRange  :  0\n",
      "                     MakerNote Tag 0x6326  :  []\n",
      "                     MakerNote Tag 0x0000  :  []\n",
      "                     MakerNote Tag 0x030C  :  []\n",
      "                     MakerNote Tag 0x94E2  :  []\n",
      "                     MakerNote Tag 0x4101  :  []\n",
      "                     MakerNote Tag 0xB280  :  []\n",
      "                     MakerNote Tag 0x45C2  :  []\n",
      "            MakerNote ImageAuthentication  :  []\n",
      "                     MakerNote Tag 0x1490  :  b'\\x8d\\xfb\\xc9va\\xe4n\\xbfZ\\xda'\n",
      "                     MakerNote Tag 0x0910  :  []\n",
      "                     MakerNote Tag 0x29A4  :  []\n",
      "                     MakerNote Tag 0x9020  :  []\n",
      "                     MakerNote Tag 0x4002  :  []\n",
      "                     MakerNote Tag 0x5200  :  []\n",
      "                     MakerNote Tag 0x0050  :  []\n",
      "                     MakerNote Tag 0x0040  :  []\n",
      "                     MakerNote Tag 0x1401  :  []\n",
      "                     MakerNote Tag 0x01A0  :  []\n",
      "                     MakerNote Tag 0x1000  :  []\n",
      "                     MakerNote DigitalICE  :  []\n",
      "                     MakerNote Tag 0x1045  :  []\n",
      "                     MakerNote Tag 0x0224  :  []\n",
      "                     MakerNote Tag 0x4050  :  []\n",
      "                     MakerNote Tag 0x4012  :  []\n",
      "                     MakerNote Tag 0x4011  :  []\n",
      "                     MakerNote Tag 0x0028  :  []\n",
      "                     MakerNote Tag 0x0900  :  []\n",
      "                     MakerNote Tag 0x5667  :  []\n",
      "                     MakerNote Tag 0xAB13  :  []\n",
      "                     MakerNote Tag 0x2041  :  \n",
      "                     MakerNote Tag 0x8514  :  []\n",
      "                     MakerNote Tag 0x0180  :  []\n",
      "                     MakerNote Tag 0x2804  :  []\n",
      "                     MakerNote Tag 0x5109  :  []\n",
      "                     MakerNote Tag 0x56D7  :  []\n",
      "                     MakerNote Tag 0x2B01  :  []\n",
      "                     MakerNote Tag 0x080A  :  []\n",
      "                     MakerNote Tag 0x1204  :  []\n",
      "                     MakerNote Tag 0x002C  :  []\n",
      "                     MakerNote Tag 0xA422  :  [0, 0, 0, 0, 0, 0, 0, 0, 0, 0, 0, 0, 0, 0, 0, 0, 0, 0, 0, 0, ... ]\n",
      "                     MakerNote Tag 0x80D4  :  []\n",
      "                     MakerNote Tag 0x05A4  :  []\n",
      "                     MakerNote Tag 0x009D  :  []\n",
      "                     MakerNote Tag 0x8400  :  \n",
      "                     MakerNote Tag 0x48A0  :  []\n",
      "                     MakerNote Tag 0x85B2  :  []\n",
      "                     MakerNote Tag 0x000A  :  []\n"
     ]
    }
   ],
   "source": [
    "import exifread\n",
    "import os\n",
    "print(\"Le repertoire courant est : \", os.getcwd(),'\\n')\n",
    "# Ouverture d'une image pour lecture (en mode binaire)\n",
    "f = open(\"ma_photo.jpg\", 'rb')\n",
    "\n",
    "# Retourne les Exif dans un dictionnaire (variable tags)\n",
    "tags = exifread.process_file(f)\n",
    "print(\" \"*(40-len(\"RUBRIQUE\")),\"RUBRIQUE\",\" | \",\"VALEUR\")\n",
    "print(\"-\"*70)\n",
    "for key, val in tags.items():\n",
    "    if key!=\"JPEGThumbnail\":\n",
    "        compl=40-len(key)\n",
    "        print(\" \"*compl,key,\" : \",val)"
   ]
  },
  {
   "cell_type": "markdown",
   "metadata": {
    "hideCode": true,
    "hidePrompt": true
   },
   "source": [
    "<p class=\"alert alert-warning\"><u>Travail demandé n°1 :</u><br/>\n",
    "1.Munis-toi d'une photo au format compressé jpeg et place-la dans le même répertoire que ce document sous le nom \"ma_photo.jpg\"<br/>\n",
    "2. A l'aide du code ci-dessus, retrouve et affiche les dates de prise de vue, la largeur et la hauteur, la durée d'exposition, l'ouverture (aperture).<br/>\n",
    "3. Pendant combien de temps l'obturateur s'est-il ouvert durant la prise de vue ? </p>"
   ]
  },
  {
   "cell_type": "markdown",
   "metadata": {
    "hideCode": true,
    "hidePrompt": true
   },
   "source": [
    "<h2 class=\"alert alert-info\">\n",
    "Les types de clefs</h2>"
   ]
  },
  {
   "cell_type": "markdown",
   "metadata": {
    "hideCode": true,
    "hidePrompt": true
   },
   "source": [
    "Les clefs ne sont pas nécessairement de type <span class=\"inline_code\">string</span> :"
   ]
  },
  {
   "cell_type": "code",
   "execution_count": 16,
   "metadata": {
    "hideCode": true,
    "hidePrompt": true
   },
   "outputs": [],
   "source": [
    "#Des entiers pour les clefs\n",
    "shifumi={1:\"Pierre\",2:\"Feuille\",3:\"Ciseaux\"}"
   ]
  },
  {
   "cell_type": "code",
   "execution_count": 17,
   "metadata": {
    "hideCode": true,
    "hidePrompt": true
   },
   "outputs": [
    {
     "data": {
      "text/plain": [
       "'Feuille'"
      ]
     },
     "execution_count": 17,
     "metadata": {},
     "output_type": "execute_result"
    }
   ],
   "source": [
    "from random import randint\n",
    "\n",
    "#On associe ainsi à un tirage aléatoire : pierre, feuille ou ciseaux !\n",
    "shifumi[randint(1,3)]\n"
   ]
  },
  {
   "cell_type": "markdown",
   "metadata": {
    "hideCode": true,
    "hidePrompt": true
   },
   "source": [
    "On peut même utiliser des tuples soit pour la clef, soit pour la valeur, soit pour les deux :"
   ]
  },
  {
   "cell_type": "code",
   "execution_count": 18,
   "metadata": {
    "hideCode": true,
    "hidePrompt": true
   },
   "outputs": [],
   "source": [
    "fiche_adherent={('Pierre',56):(15.4,'à jour de cotisation'),('Lucie',24):(15.1,'à jour de cotisation'),\n",
    "                ('Pierre',22):(2.6,'à jour de cotisation'),('Lucie',3.2e6):('Non Classé', 'cotisation en retard')}"
   ]
  },
  {
   "cell_type": "code",
   "execution_count": 19,
   "metadata": {
    "hideCode": true,
    "hidePrompt": true
   },
   "outputs": [
    {
     "name": "stdout",
     "output_type": "stream",
     "text": [
      "fiche_adherent['Lucie',24][0] renvoie :  15.1\n"
     ]
    }
   ],
   "source": [
    "#Classement de l 'adhérent.e (on remarquera que sauf en cas d'ambiguité, les \n",
    "# parenthèses ne sont pas nécessaires pour appeler un tuple)\n",
    "print(\"fiche_adherent['Lucie',24][0] renvoie : \",fiche_adherent['Lucie',24][0])\n"
   ]
  },
  {
   "cell_type": "markdown",
   "metadata": {},
   "source": [
    "<p class=\"alert alert-warning\"><u>Travail demandé n°2 :</u><br/>\n",
    "Dans la cellule ci-dessous, écrire un programme avec une boucle réalisant l'affichage suivant :\n",
    "\n",
    "![Image](fichier_adherent.png)\n",
    "\n",
    "</p>"
   ]
  },
  {
   "cell_type": "code",
   "execution_count": 20,
   "metadata": {},
   "outputs": [
    {
     "name": "stdout",
     "output_type": "stream",
     "text": [
      "\r\n",
      "Fichier des adhérent.e.s :\n"
     ]
    }
   ],
   "source": [
    "#Etat de la cotisation annuelle :\n",
    "print(\"\\r\") #Retour à la ligne\n",
    "print(\"Fichier des adhérent.e.s :\")"
   ]
  },
  {
   "cell_type": "markdown",
   "metadata": {
    "hideCode": true,
    "hidePrompt": true
   },
   "source": [
    "<p class=\"alert alert-danger\"><u>Remarque</u></span>.<br/>Il y a une restriction notable : __on ne peut pas utiliser une liste pour définir une clef__ .<br/>\n",
    "Une <a href=\"https://wiki.python.org/moin/DictionaryKeys\">explication</a> sur le wiki : les clefs doivent être *hachable* c'est-à-dire que leur valeur permet de calculer un entier qui ne change pas au cours du temps. C'est à cette condition que l'accès à une valeur par la clef via une *table de hash* sera performant.</p>"
   ]
  },
  {
   "cell_type": "code",
   "execution_count": 21,
   "metadata": {
    "hideCode": true,
    "hidePrompt": true
   },
   "outputs": [
    {
     "ename": "TypeError",
     "evalue": "unhashable type: 'list'",
     "output_type": "error",
     "traceback": [
      "\u001b[0;31m---------------------------------------------------------------------------\u001b[0m",
      "\u001b[0;31mTypeError\u001b[0m                                 Traceback (most recent call last)",
      "\u001b[0;32m<ipython-input-21-e0ce2bea025f>\u001b[0m in \u001b[0;36m<module>\u001b[0;34m\u001b[0m\n\u001b[0;32m----> 1\u001b[0;31m \u001b[0mdico\u001b[0m\u001b[0;34m=\u001b[0m\u001b[0;34m{\u001b[0m\u001b[0;34m[\u001b[0m\u001b[0;36m1\u001b[0m\u001b[0;34m,\u001b[0m\u001b[0;36m2\u001b[0m\u001b[0;34m]\u001b[0m\u001b[0;34m:\u001b[0m\u001b[0;34m'a'\u001b[0m\u001b[0;34m}\u001b[0m\u001b[0;34m\u001b[0m\u001b[0;34m\u001b[0m\u001b[0m\n\u001b[0m",
      "\u001b[0;31mTypeError\u001b[0m: unhashable type: 'list'"
     ]
    }
   ],
   "source": [
    "dico={[1,2]:'a'}"
   ]
  },
  {
   "cell_type": "markdown",
   "metadata": {
    "hideCode": true,
    "hidePrompt": true
   },
   "source": [
    "<h2 class=\"alert alert-info\">\n",
    "Modification de valeur</h2>"
   ]
  },
  {
   "cell_type": "markdown",
   "metadata": {
    "hideCode": true,
    "hidePrompt": true
   },
   "source": [
    "Les dictionnaires sont modifiables :"
   ]
  },
  {
   "cell_type": "code",
   "execution_count": 26,
   "metadata": {
    "hideCode": true,
    "hidePrompt": true
   },
   "outputs": [
    {
     "name": "stdout",
     "output_type": "stream",
     "text": [
      "15.0\n"
     ]
    }
   ],
   "source": [
    "#Si Lucie améliore sont classement on met à jour le dictionnaire :\n",
    "fiche_adherent[('Lucie',24)]=(15.0,'à jour de cotisation')\n",
    "#Classement de l 'adhérent.e\n",
    "print(fiche_adherent[('Lucie',24)][0])"
   ]
  },
  {
   "cell_type": "markdown",
   "metadata": {
    "hideCode": true,
    "hidePrompt": true
   },
   "source": [
    "Avec un dictionnaire, pour ajouter une paire clef/valeur, il suffit d'écrire :"
   ]
  },
  {
   "cell_type": "code",
   "execution_count": 27,
   "metadata": {
    "hideCode": true,
    "hidePrompt": true
   },
   "outputs": [
    {
     "name": "stdout",
     "output_type": "stream",
     "text": [
      "{1: 'Pierre', 2: 'Feuille', 3: 'Ciseaux', 4: 'Puits'}\n"
     ]
    }
   ],
   "source": [
    "#Si on veut rajouter le puits au shifumi, on rajoute une clef 4 et sa valeur \"Puits\" :\n",
    "shifumi[4]=\"Puits\"\n",
    "#La liste shifumi devient :\n",
    "print(shifumi)"
   ]
  },
  {
   "cell_type": "markdown",
   "metadata": {
    "hideCode": true,
    "hidePrompt": true
   },
   "source": [
    "Alors que l'équivalent avec une liste conduit à un message d'erreur <span class=\"inline_code\">index out of range</span> :"
   ]
  },
  {
   "cell_type": "code",
   "execution_count": 28,
   "metadata": {
    "hideCode": true,
    "hidePrompt": true
   },
   "outputs": [
    {
     "name": "stdout",
     "output_type": "stream",
     "text": [
      "fruit\n"
     ]
    }
   ],
   "source": [
    "#Créons une liste pour notre exemple :\n",
    "liste_nature=['arbre','fruit','feuille']\n",
    "print(liste_nature[1])"
   ]
  },
  {
   "cell_type": "code",
   "execution_count": 29,
   "metadata": {
    "hideCode": true,
    "hidePrompt": true
   },
   "outputs": [
    {
     "ename": "IndexError",
     "evalue": "list assignment index out of range",
     "output_type": "error",
     "traceback": [
      "\u001b[0;31m---------------------------------------------------------------------------\u001b[0m",
      "\u001b[0;31mIndexError\u001b[0m                                Traceback (most recent call last)",
      "\u001b[0;32m<ipython-input-29-f673da543b9e>\u001b[0m in \u001b[0;36m<module>\u001b[0;34m\u001b[0m\n\u001b[1;32m      1\u001b[0m \u001b[0;31m#On voudrait rajouter un élément au rang suivant (3) de la liste en faisant :\u001b[0m\u001b[0;34m\u001b[0m\u001b[0;34m\u001b[0m\u001b[0;34m\u001b[0m\u001b[0m\n\u001b[0;32m----> 2\u001b[0;31m \u001b[0mliste_nature\u001b[0m\u001b[0;34m[\u001b[0m\u001b[0;36m3\u001b[0m\u001b[0;34m]\u001b[0m\u001b[0;34m=\u001b[0m\u001b[0;34m'fleur'\u001b[0m\u001b[0;34m\u001b[0m\u001b[0;34m\u001b[0m\u001b[0m\n\u001b[0m",
      "\u001b[0;31mIndexError\u001b[0m: list assignment index out of range"
     ]
    }
   ],
   "source": [
    "#On voudrait rajouter un élément au rang suivant (3) de la liste en faisant :\n",
    "liste_nature[3]='fleur'"
   ]
  },
  {
   "cell_type": "code",
   "execution_count": 30,
   "metadata": {
    "hideCode": true,
    "hidePrompt": true
   },
   "outputs": [
    {
     "data": {
      "text/plain": [
       "['arbre', 'fruit', 'feuille', 'fleur']"
      ]
     },
     "execution_count": 30,
     "metadata": {},
     "output_type": "execute_result"
    }
   ],
   "source": [
    "#Il aurait fallu écrire :\n",
    "liste_nature.append('fleur')\n",
    "liste_nature"
   ]
  },
  {
   "cell_type": "markdown",
   "metadata": {
    "hideCode": true,
    "hidePrompt": true
   },
   "source": [
    "<p class=\"alert alert-warning\"><u>Travail demandé n°3 :</u><br/>\n",
    "1.Reprends les donnees exif de la photo vue ci-dessus et modifie le Copyright en ajoutant ton nom.<br/>\n",
    "2.Affiche à nouveau les données et vérifie qu'elles ont bien été modifées."
   ]
  },
  {
   "cell_type": "markdown",
   "metadata": {
    "hideCode": true,
    "hidePrompt": true
   },
   "source": [
    "<h2 class=\"alert alert-info\">Création en compréhension</h2>"
   ]
  },
  {
   "cell_type": "markdown",
   "metadata": {
    "hideCode": true,
    "hidePrompt": true
   },
   "source": [
    "A l'instar d'une liste, on peut créer un dictionnaire en compréhension !\n",
    "Dans l'exemple qui suit, on crée la table ascii des lettres majuscules :"
   ]
  },
  {
   "cell_type": "code",
   "execution_count": 31,
   "metadata": {
    "hideCode": true,
    "hidePrompt": true
   },
   "outputs": [
    {
     "name": "stdout",
     "output_type": "stream",
     "text": [
      "Dans la table ascii 65 correspond au caractère A\n",
      "Table ascii par lettre :\n",
      "{'A': 65, 'B': 66, 'C': 67, 'D': 68, 'E': 69, 'F': 70, 'G': 71, 'H': 72, 'I': 73, 'J': 74, 'K': 75, 'L': 76, 'M': 77, 'N': 78, 'O': 79, 'P': 80, 'Q': 81, 'R': 82, 'S': 83, 'T': 84, 'U': 85, 'V': 86, 'W': 87, 'X': 88, 'Y': 89, 'Z': 90}\n"
     ]
    }
   ],
   "source": [
    "# chr(n) renvoie le caractère ascii correspondant à un entier.\n",
    "print(\"Dans la table ascii 65 correspond au caractère\",chr(65))\n",
    "\n",
    "#On génère le dictionnaire associant l'entier à la lettre de l'alphabet majuscule :\n",
    "numero_table_ascii={chr(n): n for n in range(65, 65+26)}\n",
    "\n",
    "print(\"Table ascii par lettre :\")\n",
    "print(numero_table_ascii)"
   ]
  },
  {
   "cell_type": "code",
   "execution_count": 32,
   "metadata": {
    "hideCode": true,
    "hidePrompt": true
   },
   "outputs": [
    {
     "name": "stdout",
     "output_type": "stream",
     "text": [
      "L'entier correspondant au caractère a dans la table ascii est 97\n",
      "Table ascii par numéro :\n",
      "{97: 'a', 98: 'b', 99: 'c', 100: 'd', 101: 'e', 102: 'f', 103: 'g', 104: 'h', 105: 'i', 106: 'j', 107: 'k', 108: 'l', 109: 'm', 110: 'n', 111: 'o', 112: 'p', 113: 'q', 114: 'r', 115: 's', 116: 't', 117: 'u', 118: 'v', 119: 'w', 120: 'x', 121: 'y', 122: 'z'}\n"
     ]
    }
   ],
   "source": [
    "#Ou à l'inverse avec la fonction ord() qui renvoie l'entier correponsdant à un caractère ascii :\n",
    "print(\"L'entier correspondant au caractère a dans la table ascii est\",ord('a'))\n",
    "#On génère le dictionnaire associant la lettre de l'alphabet minuscule au nombre entier entre 97 et 122 :\n",
    "caractere_ascii={ord(i):i for i in \"abcdefghijklmnopqrstuvwxyz\"}\n",
    "print(\"Table ascii par numéro :\")\n",
    "print(caractere_ascii)"
   ]
  },
  {
   "cell_type": "code",
   "execution_count": 33,
   "metadata": {
    "hideCode": true,
    "hidePrompt": true
   },
   "outputs": [
    {
     "name": "stdout",
     "output_type": "stream",
     "text": [
      "l'alphabet est : abcdefghijklmnopqrstuvwxyz\n"
     ]
    }
   ],
   "source": [
    "#Remarque :\n",
    "############\n",
    "#Pour avoir l'alphabet de façon savante, on peut utiliser le module string :\n",
    "import string\n",
    "print(\"l'alphabet est :\", string.ascii_lowercase)\n",
    "#Faire help('string') pour les autres attributs possibles de string"
   ]
  },
  {
   "cell_type": "markdown",
   "metadata": {
    "hideCode": true,
    "hidePrompt": true
   },
   "source": [
    "<p class=\"alert alert-warning\"><u>Travail demandé n°4 :</u><br/>\n",
    "On considère la chaîne de caractère (string) :<br/><br/>\n",
    "\" >La caméra volante nous pistait depuis notre entrée\n",
    "<br/>sur l'anneau périphérique. Dès la rampe, j'avais décon-<br/>necté le pilote et poussé le bobsleigh à deux cents -\"<br/><br/>\n",
    "(A. Damasio - La Zone du Dehors).<br/><br/>\n",
    "Construire un dictionnaire dont les clefs sont les caractères ascii utilisés dans la citation et les valeurs, le nombre d'occurences de chaque caractère (on ne prendra pas en compte les sauts de ligne).\n",
    "</p>"
   ]
  },
  {
   "cell_type": "markdown",
   "metadata": {},
   "source": [
    "<u>Solution:</u>"
   ]
  },
  {
   "cell_type": "code",
   "execution_count": 34,
   "metadata": {
    "hideCode": true,
    "hidePrompt": true
   },
   "outputs": [],
   "source": [
    "#Placer la solution ici :\n"
   ]
  },
  {
   "cell_type": "markdown",
   "metadata": {
    "hideCode": true,
    "hidePrompt": true
   },
   "source": [
    "<p class=\"alert alert-warning\"><u>Travail demandé n°5 : chiffrement d'un message.</u><br/>\n",
    "1.Créer un dictionnaire dans lequel chaque caractère est une clef, et sa valeur est un caractère différent.<br/>\n",
    "2.Réécrire la string <span class='inline_code'>chaine</span> avec ce nouvel alphabet.<br/>\n",
    "3.A quelle condition le message est-il facilement déchiffrable ?<br/>\n",
    "4.Ecrire un programme de déchiffrement du message.</p>"
   ]
  },
  {
   "cell_type": "code",
   "execution_count": null,
   "metadata": {
    "hideCode": true,
    "hidePrompt": true
   },
   "outputs": [],
   "source": [
    "#Placer la solution ici :\n"
   ]
  },
  {
   "cell_type": "markdown",
   "metadata": {
    "hideCode": true,
    "hidePrompt": true
   },
   "source": [
    "Quelques références :<br/>\n",
    "wikibook :https://fr.wikibooks.org/wiki/Programmation_Python/Dictionnaires reprend le livre de swinnen.<br/>\n",
    "Le Swinnen : https://inforef.be/swi/download/apprendre_python3_5.pdf<br/>\n",
    "Site python-django.dev sur le mode \"comment faire\" : https://python-django.dev/page-apprendre-dictionnaire-python<br/>\n",
    "Sur la table de hachage :https://fr.wikipedia.org/wiki/Table_de_hachage<br/>\n",
    "Compléments : https://thispointer.com/python-6-different-ways-to-create-dictionaries/"
   ]
  },
  {
   "cell_type": "markdown",
   "metadata": {
    "hideCode": true,
    "hidePrompt": true
   },
   "source": [
    "[La suite : projet de gestionnaire de mot de passe](./projet_mot_de_passe/Projet_mot_de_passe_eleve.ipynb)"
   ]
  }
 ],
 "metadata": {
  "hide_code_all_hidden": true,
  "kernelspec": {
   "display_name": "Python 3",
   "language": "python",
   "name": "python3"
  },
  "language_info": {
   "codemirror_mode": {
    "name": "ipython",
    "version": 3
   },
   "file_extension": ".py",
   "mimetype": "text/x-python",
   "name": "python",
   "nbconvert_exporter": "python",
   "pygments_lexer": "ipython3",
   "version": "3.6.9"
  }
 },
 "nbformat": 4,
 "nbformat_minor": 2
}
